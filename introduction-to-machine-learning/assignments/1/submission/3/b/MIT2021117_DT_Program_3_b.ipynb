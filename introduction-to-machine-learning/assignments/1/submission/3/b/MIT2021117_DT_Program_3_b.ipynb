{
  "nbformat": 4,
  "nbformat_minor": 0,
  "metadata": {
    "colab": {
      "name": "MIT2021117_DT_Program_3_b.ipynb",
      "provenance": []
    },
    "kernelspec": {
      "name": "python3",
      "display_name": "Python 3"
    },
    "language_info": {
      "name": "python"
    }
  },
  "cells": [
    {
      "cell_type": "code",
      "execution_count": 11,
      "metadata": {
        "colab": {
          "base_uri": "https://localhost:8080/",
          "height": 607
        },
        "id": "H0uPBNhORhFP",
        "outputId": "96e81aee-3d51-4f2d-a155-a5b03e80ed87"
      },
      "outputs": [
        {
          "output_type": "stream",
          "name": "stdout",
          "text": [
            "Confusion matrix\n",
            " [[113   8   7   1]\n",
            " [  2  17   0   1]\n",
            " [  8   0 389   0]\n",
            " [  3   3   0  19]]\n",
            "\n",
            "F1 score\n",
            "               precision    recall  f1-score   support\n",
            "\n",
            "         acc       0.90      0.88      0.89       129\n",
            "        good       0.61      0.85      0.71        20\n",
            "       unacc       0.98      0.98      0.98       397\n",
            "       vgood       0.90      0.76      0.83        25\n",
            "\n",
            "    accuracy                           0.94       571\n",
            "   macro avg       0.85      0.87      0.85       571\n",
            "weighted avg       0.95      0.94      0.94       571\n",
            "\n"
          ]
        },
        {
          "output_type": "display_data",
          "data": {
            "image/png": "[encoded data removed]",
            "text/plain": [
              "<Figure size 432x288 with 1 Axes>"
            ]
          },
          "metadata": {
            "needs_background": "light"
          }
        }
      ],
      "source": [
        "## scikit-learn's RandomForestClassifier\n",
        "\n",
        "# import necessary packages/functions\n",
        "import warnings\n",
        "warnings.filterwarnings('ignore')\n",
        "import category_encoders as ce\n",
        "import pandas as pd\n",
        "from sklearn.ensemble import RandomForestClassifier\n",
        "from sklearn.model_selection import train_test_split\n",
        "from sklearn.metrics import accuracy_score, confusion_matrix\n",
        "from sklearn.metrics import classification_report\n",
        "from sklearn import tree\n",
        "from graphviz import Source\n",
        "import graphviz\n",
        "import seaborn as sns\n",
        "import matplotlib.pyplot as plt \n",
        "\n",
        "# load the data into dataframe\n",
        "df = pd.read_csv('/content/drive/MyDrive/Colab Notebooks/data (1).csv')\n",
        "\n",
        "# get feature vector\n",
        "X = df.drop(['class'], axis=1)\n",
        "\n",
        "# get target variable\n",
        "y = df['class']\n",
        "\n",
        "# split the data into training and testing set\n",
        "X_train, X_test, y_train, y_test = train_test_split(X, y, test_size=0.33, random_state=42)\n",
        "\n",
        "# encoding variables\n",
        "encoder = ce.OrdinalEncoder(cols=['buying', 'maint', 'doors', 'persons', 'lug_boot', 'safety'])\n",
        "\n",
        "X_train = encoder.fit_transform(X_train)\n",
        "\n",
        "X_test = encoder.transform(X_test)\n",
        "\n",
        "#Create a RandomForestClassifier\n",
        "clf = RandomForestClassifier()\n",
        "\n",
        "#Train the model using the training sets y_pred=clf.predict(X_test)\n",
        "clf.fit(X_train, y_train)\n",
        "\n",
        "y_pred = clf.predict(X_test)\n",
        "\n",
        "# confusion matrix and f1 score\n",
        "cm = confusion_matrix(y_test, y_pred)\n",
        "print('Confusion matrix\\n', cm)\n",
        "print('\\nF1 score\\n', classification_report(y_test, y_pred))\n",
        "\n",
        "# visualizing the feature scores\n",
        "feature_scores = pd.Series(clf.feature_importances_, index=X_train.columns).sort_values(ascending=False)\n",
        "\n",
        "sns.barplot(x=feature_scores, y=feature_scores.index)\n",
        "\n",
        "plt.xlabel('Feature Importance Score')\n",
        "plt.ylabel('Features')\n",
        "\n",
        "plt.title(\"Visualizing Important Features\")\n",
        "\n",
        "# plt.show()\n",
        "\n",
        "plt.savefig('feature_bar_plot.png')"
      ]
    },
    {
      "cell_type": "code",
      "source": [
        "#Create a RandomForestClassifier\n",
        "clf = RandomForestClassifier(n_estimators=20, max_depth=4, criterion='entropy')\n",
        "\n",
        "#Train the model using the training sets y_pred=clf.predict(X_test)\n",
        "clf.fit(X_train, y_train)\n",
        "\n",
        "y_pred = clf.predict(X_test)\n",
        "\n",
        "# confusion matrix and f1 score\n",
        "cm = confusion_matrix(y_test, y_pred)\n",
        "print('Confusion matrix\\n', cm)\n",
        "print('\\nF1 score\\n', classification_report(y_test, y_pred))\n",
        "\n",
        "# visualizing the feature scores\n",
        "feature_scores = pd.Series(clf.feature_importances_, index=X_train.columns).sort_values(ascending=False)\n",
        "\n",
        "sns.barplot(x=feature_scores, y=feature_scores.index)\n",
        "\n",
        "plt.xlabel('Feature Importance Score')\n",
        "plt.ylabel('Features')\n",
        "\n",
        "plt.title(\"Visualizing Important Features\")\n",
        "\n",
        "# plt.show()\n",
        "\n",
        "plt.savefig('feature_bar_plot.png')"
      ],
      "metadata": {
        "colab": {
          "base_uri": "https://localhost:8080/",
          "height": 607
        },
        "id": "jcS1Yk_mYuxs",
        "outputId": "1ebe9916-98e8-4f62-84c0-1b96216e8f37"
      },
      "execution_count": 12,
      "outputs": [
        {
          "output_type": "stream",
          "name": "stdout",
          "text": [
            "Confusion matrix\n",
            " [[ 98   0  31   0]\n",
            " [ 20   0   0   0]\n",
            " [ 12   0 385   0]\n",
            " [ 25   0   0   0]]\n",
            "\n",
            "F1 score\n",
            "               precision    recall  f1-score   support\n",
            "\n",
            "         acc       0.63      0.76      0.69       129\n",
            "        good       0.00      0.00      0.00        20\n",
            "       unacc       0.93      0.97      0.95       397\n",
            "       vgood       0.00      0.00      0.00        25\n",
            "\n",
            "    accuracy                           0.85       571\n",
            "   macro avg       0.39      0.43      0.41       571\n",
            "weighted avg       0.79      0.85      0.81       571\n",
            "\n"
          ]
        },
        {
          "output_type": "display_data",
          "data": {
            "image/png": "[encoded data removed]",
            "text/plain": [
              "<Figure size 432x288 with 1 Axes>"
            ]
          },
          "metadata": {
            "needs_background": "light"
          }
        }
      ]
    }
  ]
}