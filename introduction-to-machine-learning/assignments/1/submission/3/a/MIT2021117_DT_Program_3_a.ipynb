{
  "nbformat": 4,
  "nbformat_minor": 0,
  "metadata": {
    "colab": {
      "name": "MIT2021117_DT_Program_3_a.ipynb",
      "provenance": []
    },
    "kernelspec": {
      "name": "python3",
      "display_name": "Python 3"
    },
    "language_info": {
      "name": "python"
    }
  },
  "cells": [
    {
      "cell_type": "code",
      "source": [
        "## scikit-learn's DecisionTreeClassifier example with gini index and default parameters\n",
        "\n",
        "# import required packages/functions\n",
        "\n",
        "import warnings\n",
        "warnings.filterwarnings('ignore')\n",
        "import category_encoders as ce\n",
        "import pandas as pd\n",
        "from sklearn.model_selection import train_test_split\n",
        "from sklearn.tree import DecisionTreeClassifier\n",
        "from sklearn.metrics import accuracy_score, confusion_matrix\n",
        "from sklearn.metrics import classification_report\n",
        "from sklearn import tree\n",
        "from graphviz import Source\n",
        "import graphviz\n",
        "\n",
        "# load the data into dataframe\n",
        "df = pd.read_csv('/content/drive/MyDrive/Colab Notebooks/data (1).csv')\n",
        "\n",
        "# get feature vector\n",
        "X = df.drop(['class'], axis=1)\n",
        "\n",
        "# get target variable\n",
        "y = df['class']\n",
        "\n",
        "# split the data into training and testing set\n",
        "X_train, X_test, y_train, y_test = train_test_split(X, y, test_size=0.33, random_state=42)\n",
        "\n",
        "# encoding variables\n",
        "encoder = ce.OrdinalEncoder(cols=['buying', 'maint', 'doors', 'persons', 'lug_boot', 'safety'])\n",
        "\n",
        "X_train = encoder.fit_transform(X_train)\n",
        "\n",
        "X_test = encoder.transform(X_test)\n",
        "\n",
        "# train the model\n",
        "clf_gini =  DecisionTreeClassifier()\n",
        "clf_gini.fit(X_train, y_train)\n",
        "\n",
        "# predicting output for test data\n",
        "y_pred_gini = clf_gini.predict(X_test)\n",
        "\n",
        "\n",
        "# confusion matrix and f1 score\n",
        "cm = confusion_matrix(y_test, y_pred_gini)\n",
        "print('Confusion matrix\\n', cm)\n",
        "print('\\nF1 score\\n', classification_report(y_test, y_pred_gini))\n",
        "\n",
        "# plotting the tree\n",
        "dot_data = tree.export_graphviz(clf_gini, out_file=None, \n",
        "                              feature_names=X_train.columns,  \n",
        "                              class_names=y_train,  \n",
        "                              filled=True, rounded=True,  \n",
        "                              special_characters=True)\n",
        "\n",
        "graph = graphviz.Source(dot_data) \n",
        "\n",
        "graph.render(directory='my')"
      ],
      "metadata": {
        "colab": {
          "base_uri": "https://localhost:8080/",
          "height": 348
        },
        "id": "U8u5BkfcjvaJ",
        "outputId": "bf86dc95-1d0e-4b06-af4a-b1ea7c484d75"
      },
      "execution_count": 26,
      "outputs": [
        {
          "output_type": "stream",
          "name": "stdout",
          "text": [
            "Confusion matrix\n",
            " [[110  12   7   0]\n",
            " [  0  20   0   0]\n",
            " [  6   0 391   0]\n",
            " [  3   0   0  22]]\n",
            "\n",
            "F1 score\n",
            "               precision    recall  f1-score   support\n",
            "\n",
            "         acc       0.92      0.85      0.89       129\n",
            "        good       0.62      1.00      0.77        20\n",
            "       unacc       0.98      0.98      0.98       397\n",
            "       vgood       1.00      0.88      0.94        25\n",
            "\n",
            "    accuracy                           0.95       571\n",
            "   macro avg       0.88      0.93      0.89       571\n",
            "weighted avg       0.96      0.95      0.95       571\n",
            "\n"
          ]
        },
        {
          "output_type": "execute_result",
          "data": {
            "application/vnd.google.colaboratory.intrinsic+json": {
              "type": "string"
            },
            "text/plain": [
              "'my/Source.gv.pdf'"
            ]
          },
          "metadata": {},
          "execution_count": 26
        }
      ]
    },
    {
      "cell_type": "code",
      "source": [
        "## Varying parameters of DecisionTreeClassifier\n",
        "\n",
        "# train the model\n",
        "clf_gini =  DecisionTreeClassifier(criterion='entropy', max_depth=6)\n",
        "clf_gini.fit(X_train, y_train)\n",
        "\n",
        "# predicting output for test data\n",
        "y_pred_gini = clf_gini.predict(X_test)\n",
        "\n",
        "\n",
        "# confusion matrix and f1 score\n",
        "cm = confusion_matrix(y_test, y_pred_gini)\n",
        "print('Confusion matrix\\n', cm)\n",
        "print('\\nF1 score\\n', classification_report(y_test, y_pred_gini))\n",
        "\n",
        "# plotting the tree\n",
        "dot_data = tree.export_graphviz(clf_gini, out_file=None, \n",
        "                              feature_names=X_train.columns,  \n",
        "                              class_names=y_train,  \n",
        "                              filled=True, rounded=True,  \n",
        "                              special_characters=True)\n",
        "\n",
        "graph = graphviz.Source(dot_data) \n",
        "\n",
        "graph.render(directory='my')"
      ],
      "metadata": {
        "colab": {
          "base_uri": "https://localhost:8080/",
          "height": 348
        },
        "id": "d0kEt3gtFBwX",
        "outputId": "577d5259-0b2a-4a2c-c712-38866e294fea"
      },
      "execution_count": 28,
      "outputs": [
        {
          "output_type": "stream",
          "name": "stdout",
          "text": [
            "Confusion matrix\n",
            " [[ 92   8  29   0]\n",
            " [  5  15   0   0]\n",
            " [  6   0 391   0]\n",
            " [  3   9   0  13]]\n",
            "\n",
            "F1 score\n",
            "               precision    recall  f1-score   support\n",
            "\n",
            "         acc       0.87      0.71      0.78       129\n",
            "        good       0.47      0.75      0.58        20\n",
            "       unacc       0.93      0.98      0.96       397\n",
            "       vgood       1.00      0.52      0.68        25\n",
            "\n",
            "    accuracy                           0.89       571\n",
            "   macro avg       0.82      0.74      0.75       571\n",
            "weighted avg       0.90      0.89      0.89       571\n",
            "\n"
          ]
        },
        {
          "output_type": "execute_result",
          "data": {
            "application/vnd.google.colaboratory.intrinsic+json": {
              "type": "string"
            },
            "text/plain": [
              "'my/Source.gv.pdf'"
            ]
          },
          "metadata": {},
          "execution_count": 28
        }
      ]
    }
  ]
}