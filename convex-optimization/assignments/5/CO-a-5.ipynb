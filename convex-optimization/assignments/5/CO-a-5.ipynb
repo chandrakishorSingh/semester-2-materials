{
  "nbformat": 4,
  "nbformat_minor": 0,
  "metadata": {
    "colab": {
      "name": "CO.ipynb",
      "provenance": []
    },
    "kernelspec": {
      "name": "python3",
      "display_name": "Python 3"
    },
    "language_info": {
      "name": "python"
    }
  },
  "cells": [
    {
      "cell_type": "code",
      "execution_count": 2,
      "metadata": {
        "id": "GyFANldc886f"
      },
      "outputs": [],
      "source": [
        "import scipy.optimize as sopt\n",
        "import matplotlib.pyplot as plt\n",
        "import numpy as np\n",
        "from scipy import optimize\n",
        "from math import e"
      ]
    },
    {
      "cell_type": "markdown",
      "source": [
        "Defitions of the given function in questions"
      ],
      "metadata": {
        "id": "5PaeZJ1ap6dC"
      }
    },
    {
      "cell_type": "code",
      "source": [
        "def f1(x):\n",
        "  return 0.5 * (x[0]**2 + 10*x[1]**2)\n",
        "\n",
        "def f2(x):\n",
        "  return 100*(x[1]-x[0]**2)**2 + (1-x[0])**2\n",
        "\n",
        "def f3(x):\n",
        "  return e**(x[0]+3*x[1]-0.1) + e**(x[0]-3*x[1]-0.1) + e**(-1*x[0]-0.1)"
      ],
      "metadata": {
        "id": "jctEhNP7-VWk"
      },
      "execution_count": 3,
      "outputs": []
    },
    {
      "cell_type": "markdown",
      "source": [
        "Now, defining the derivative of all the above functions"
      ],
      "metadata": {
        "id": "ENdzP3Lpp9n4"
      }
    },
    {
      "cell_type": "code",
      "source": [
        "def df1(x):\n",
        "    return np.array([x[0], 10*x[1]])\n",
        "\n",
        "def df2(x):\n",
        "  return np.array([400*(x[0]**2-x[1])*x[0]-2*(1-x[0]), 200*(x[1]-x[0]**2)])\n",
        "\n",
        "def df3(x):\n",
        "  return np.array([e**(x[0]+3*x[1]-0.1) + e**(x[0]-3*x[1]-0.1) - e**(-x[0]-0.1), 3*e**(x[0]+3*x[1]-0.1) - 3*e**(x[0]-3*x[1]-0.1)])\n"
      ],
      "metadata": {
        "id": "vQB9bS1qBJDK"
      },
      "execution_count": 4,
      "outputs": []
    },
    {
      "cell_type": "markdown",
      "source": [
        "Steepest dececnt method"
      ],
      "metadata": {
        "id": "VzCXh70YqDyc"
      }
    },
    {
      "cell_type": "markdown",
      "source": [
        "Function 1"
      ],
      "metadata": {
        "id": "e3qH2YiJqJT7"
      }
    },
    {
      "cell_type": "code",
      "source": [
        "guesses = [np.array([1, 10])]\n",
        "i = 0\n",
        "imax = 1000\n",
        "\n",
        "def fd(alpha):\n",
        "    return f1(x + alpha*s)\n",
        "\n",
        "while i < imax:\n",
        "  x = guesses[-1]\n",
        "  s = -df1(x)\n",
        "  alpha_opt = optimize.golden(fd)\n",
        "  next_guess = x + alpha_opt * s\n",
        "  guesses.append(next_guess)\n",
        "  i = i + 1\n",
        "\n",
        "print(guesses[-1])"
      ],
      "metadata": {
        "colab": {
          "base_uri": "https://localhost:8080/"
        },
        "id": "JZj4sv7ACeZD",
        "outputId": "5edee94d-b8af-47cb-ad88-72aa0987ee58"
      },
      "execution_count": 5,
      "outputs": [
        {
          "output_type": "stream",
          "name": "stdout",
          "text": [
            "[2.74398899e-248 1.57172777e-162]\n"
          ]
        }
      ]
    },
    {
      "cell_type": "code",
      "source": [
        "guesses = [np.array([2, 2])]\n",
        "i = 0\n",
        "imax = 1000\n",
        "\n",
        "def fd(alpha):\n",
        "    return f1(x + alpha*s)\n",
        "\n",
        "while i < imax:\n",
        "  x = guesses[-1]\n",
        "  s = -df1(x)\n",
        "  alpha_opt = optimize.golden(fd)\n",
        "  next_guess = x + alpha_opt * s\n",
        "  guesses.append(next_guess)\n",
        "  i = i + 1\n",
        "  \n",
        "print(guesses[-1])"
      ],
      "metadata": {
        "colab": {
          "base_uri": "https://localhost:8080/"
        },
        "id": "gxtKD2HRPCDR",
        "outputId": "be93cf59-f0e1-44b6-baae-45b76e43d02a"
      },
      "execution_count": 6,
      "outputs": [
        {
          "output_type": "stream",
          "name": "stdout",
          "text": [
            "[1.30057578e-230 1.57172775e-162]\n"
          ]
        }
      ]
    },
    {
      "cell_type": "markdown",
      "source": [
        "2nd function"
      ],
      "metadata": {
        "id": "v0xpm4E2qMYC"
      }
    },
    {
      "cell_type": "code",
      "source": [
        "guesses = [np.array([1, 10])]\n",
        "i = 0\n",
        "imax = 1000000\n",
        "\n",
        "def f1d(alpha):\n",
        "    return f2(x + alpha*s)\n",
        "\n",
        "while i < imax:\n",
        "  x = guesses[-1]\n",
        "  s = -df2(x)\n",
        "  alpha_opt = sopt.golden(f1d)\n",
        "  next_guess = x + alpha_opt * s\n",
        "  guesses.append(next_guess)\n",
        "  i = i + 1\n",
        "\n",
        "print(guesses[-1])"
      ],
      "metadata": {
        "id": "AmvGnKAuCx06"
      },
      "execution_count": null,
      "outputs": []
    },
    {
      "cell_type": "code",
      "source": [
        "guesses = [np.array([2, 2])]\n",
        "i = 0\n",
        "imax = 10000\n",
        "\n",
        "def f1d(alpha):\n",
        "    return f2(x + alpha*s)\n",
        "\n",
        "while i < imax:\n",
        "  x = guesses[-1]\n",
        "  s = -df2(x)\n",
        "  alpha_opt = sopt.golden(f1d)\n",
        "  next_guess = x + alpha_opt * s\n",
        "  guesses.append(next_guess)\n",
        "  i = i + 1\n",
        "  \n",
        "print(guesses[-1])"
      ],
      "metadata": {
        "colab": {
          "base_uri": "https://localhost:8080/"
        },
        "id": "GxB7n4xnPm40",
        "outputId": "ebc7577b-2046-422e-8651-dee9092f91d4"
      },
      "execution_count": 8,
      "outputs": [
        {
          "output_type": "stream",
          "name": "stdout",
          "text": [
            "[1. 1.]\n"
          ]
        }
      ]
    },
    {
      "cell_type": "markdown",
      "source": [
        "3rd Function"
      ],
      "metadata": {
        "id": "07bUPMcNqYxE"
      }
    },
    {
      "cell_type": "code",
      "source": [
        "guesses = [np.array([1, 10])]\n",
        "i = 0\n",
        "imax = 1000\n",
        "def f1d(alpha):\n",
        "  return f3(x + alpha*s)\n",
        "\n",
        "while i < imax:\n",
        "  x = guesses[-1]\n",
        "  s = -df3(x)\n",
        "  alpha_opt = optimize.golden(f1d)\n",
        "  next_guess = x + alpha_opt * s\n",
        "  guesses.append(next_guess)\n",
        "  i = i + 1\n",
        "  \n",
        "print(guesses[-1])"
      ],
      "metadata": {
        "id": "HoQGint5DMs9",
        "colab": {
          "base_uri": "https://localhost:8080/"
        },
        "outputId": "c80a0438-a4f2-42e4-9311-022aa8d250c0"
      },
      "execution_count": 9,
      "outputs": [
        {
          "output_type": "stream",
          "name": "stderr",
          "text": [
            "/usr/local/lib/python3.7/dist-packages/ipykernel_launcher.py:8: RuntimeWarning: overflow encountered in double_scalars\n",
            "  \n"
          ]
        },
        {
          "output_type": "stream",
          "name": "stdout",
          "text": [
            "[-3.46573590e-01  7.88504423e-09]\n"
          ]
        }
      ]
    },
    {
      "cell_type": "code",
      "source": [
        "guesses = [np.array([2, 2])]\n",
        "i = 0\n",
        "imax = 1000\n",
        "def f1d(alpha):\n",
        "  return f3(x + alpha*s)\n",
        "\n",
        "while i < imax:\n",
        "  x = guesses[-1]\n",
        "  s = -df3(x)\n",
        "  alpha_opt = optimize.golden(f1d)\n",
        "  next_guess = x + alpha_opt * s\n",
        "  guesses.append(next_guess)\n",
        "  i = i + 1\n",
        "  \n",
        "print(guesses[-1])"
      ],
      "metadata": {
        "colab": {
          "base_uri": "https://localhost:8080/"
        },
        "id": "V8ubiwQ_P04e",
        "outputId": "c9683877-b19e-4d93-8b33-ddbcac4004c9"
      },
      "execution_count": 10,
      "outputs": [
        {
          "output_type": "stream",
          "name": "stderr",
          "text": [
            "/usr/local/lib/python3.7/dist-packages/ipykernel_launcher.py:8: RuntimeWarning: overflow encountered in double_scalars\n",
            "  \n"
          ]
        },
        {
          "output_type": "stream",
          "name": "stdout",
          "text": [
            "[-3.46573590e-01  8.88861114e-09]\n"
          ]
        }
      ]
    },
    {
      "cell_type": "markdown",
      "source": [
        "Conjugate Gradient"
      ],
      "metadata": {
        "id": "T8htNz-DBAPA"
      }
    },
    {
      "cell_type": "markdown",
      "source": [
        "Function 1"
      ],
      "metadata": {
        "id": "-3P89o_5BGGC"
      }
    },
    {
      "cell_type": "code",
      "source": [
        "x0 = [1, 10]\n",
        "res = optimize.minimize(f1, x0, method='CG', jac=df1)\n",
        "print(res)"
      ],
      "metadata": {
        "id": "mRzRxIjkBFDd",
        "colab": {
          "base_uri": "https://localhost:8080/"
        },
        "outputId": "678652eb-306c-4316-be71-28b7d37bc0bd"
      },
      "execution_count": 11,
      "outputs": [
        {
          "output_type": "stream",
          "name": "stdout",
          "text": [
            "     fun: 1.4977628344357186e-27\n",
            "     jac: array([-2.22044605e-16, -1.73074445e-13])\n",
            " message: 'Optimization terminated successfully.'\n",
            "    nfev: 7\n",
            "     nit: 2\n",
            "    njev: 7\n",
            "  status: 0\n",
            " success: True\n",
            "       x: array([-2.22044605e-16, -1.73074445e-14])\n"
          ]
        }
      ]
    },
    {
      "cell_type": "code",
      "source": [
        "x0 = [2, 2]\n",
        "res = optimize.minimize(f1, x0, method='CG', jac=df1)\n",
        "print(res)"
      ],
      "metadata": {
        "colab": {
          "base_uri": "https://localhost:8080/"
        },
        "id": "DD82tM5jQNdQ",
        "outputId": "6cbda418-b8d9-450f-d0f5-f2f854902753"
      },
      "execution_count": 12,
      "outputs": [
        {
          "output_type": "stream",
          "name": "stdout",
          "text": [
            "     fun: 1.3541694921472752e-32\n",
            "     jac: array([ 0.00000000e+00, -5.20417043e-16])\n",
            " message: 'Optimization terminated successfully.'\n",
            "    nfev: 6\n",
            "     nit: 2\n",
            "    njev: 6\n",
            "  status: 0\n",
            " success: True\n",
            "       x: array([ 0.00000000e+00, -5.20417043e-17])\n"
          ]
        }
      ]
    },
    {
      "cell_type": "markdown",
      "source": [
        "Function 2"
      ],
      "metadata": {
        "id": "hEKpEhh3BUS7"
      }
    },
    {
      "cell_type": "code",
      "source": [
        "x0 = [1, 10]\n",
        "res = optimize.minimize(f2, x0, method='CG', jac=df2)\n",
        "print(res)"
      ],
      "metadata": {
        "id": "hHPMvV-sBZsm",
        "colab": {
          "base_uri": "https://localhost:8080/"
        },
        "outputId": "35bd966f-e946-4c75-e7f4-3295d47c5da6"
      },
      "execution_count": 13,
      "outputs": [
        {
          "output_type": "stream",
          "name": "stdout",
          "text": [
            "     fun: 7.808798835571392e-15\n",
            "     jac: array([ 3.53311465e-06, -1.76728778e-06])\n",
            " message: 'Optimization terminated successfully.'\n",
            "    nfev: 64\n",
            "     nit: 24\n",
            "    njev: 64\n",
            "  status: 0\n",
            " success: True\n",
            "       x: array([1.        , 0.99999999])\n"
          ]
        }
      ]
    },
    {
      "cell_type": "code",
      "source": [
        "x0 = [2, 2]\n",
        "res = optimize.minimize(f2, x0, method='CG', jac=df2)\n",
        "print(res)"
      ],
      "metadata": {
        "colab": {
          "base_uri": "https://localhost:8080/"
        },
        "id": "jXPo8ZBIQgg8",
        "outputId": "1f374d94-4877-474b-b0bc-0dd8dbb52666"
      },
      "execution_count": 14,
      "outputs": [
        {
          "output_type": "stream",
          "name": "stdout",
          "text": [
            "     fun: 5.979732744884333e-11\n",
            "     jac: array([-1.93733691e-06,  8.68925998e-06])\n",
            " message: 'Optimization terminated successfully.'\n",
            "    nfev: 44\n",
            "     nit: 17\n",
            "    njev: 44\n",
            "  status: 0\n",
            " success: True\n",
            "       x: array([1.00000772, 1.00001548])\n"
          ]
        }
      ]
    },
    {
      "cell_type": "markdown",
      "source": [
        "Function 3"
      ],
      "metadata": {
        "id": "crlw4tcDBhIQ"
      }
    },
    {
      "cell_type": "code",
      "source": [
        "x0 = [1, 10]\n",
        "res = optimize.minimize(f3, x0, method='CG', jac=df3)\n",
        "print(res)"
      ],
      "metadata": {
        "id": "F5NUIP0LBjO0",
        "colab": {
          "base_uri": "https://localhost:8080/"
        },
        "outputId": "faac64a5-7f6b-4618-efde-303c23b76ab9"
      },
      "execution_count": 15,
      "outputs": [
        {
          "output_type": "stream",
          "name": "stdout",
          "text": [
            "     fun: 76365.47954499428\n",
            "     jac: array([  76262.35128019, -228941.74623776])\n",
            " message: 'Desired error not necessarily achieved due to precision loss.'\n",
            "    nfev: 18\n",
            "     nit: 2\n",
            "    njev: 6\n",
            "  status: 2\n",
            " success: False\n",
            "       x: array([-4.04282632, -5.12847897])\n"
          ]
        },
        {
          "output_type": "stream",
          "name": "stderr",
          "text": [
            "/usr/local/lib/python3.7/dist-packages/ipykernel_launcher.py:8: RuntimeWarning: overflow encountered in double_scalars\n",
            "  \n",
            "/usr/local/lib/python3.7/dist-packages/ipykernel_launcher.py:8: RuntimeWarning: overflow encountered in double_scalars\n",
            "  \n"
          ]
        }
      ]
    },
    {
      "cell_type": "code",
      "source": [
        "x0 = [2, 2]\n",
        "res = optimize.minimize(f3, x0, method='CG', jac=df3)\n",
        "print(res)"
      ],
      "metadata": {
        "colab": {
          "base_uri": "https://localhost:8080/"
        },
        "id": "sM2zrkx0Q0pb",
        "outputId": "64ecee30-f111-4a79-f9ba-dbcfe2d41a99"
      },
      "execution_count": 16,
      "outputs": [
        {
          "output_type": "stream",
          "name": "stdout",
          "text": [
            "     fun: 2.5592666966582156\n",
            "     jac: array([1.36635592e-10, 2.67451306e-09])\n",
            " message: 'Optimization terminated successfully.'\n",
            "    nfev: 20\n",
            "     nit: 9\n",
            "    njev: 20\n",
            "  status: 0\n",
            " success: True\n",
            "       x: array([-3.4657359e-01,  2.3222908e-10])\n"
          ]
        }
      ]
    },
    {
      "cell_type": "markdown",
      "source": [
        "Newton-CG (Conjugate Gradient)"
      ],
      "metadata": {
        "id": "Q9stSbDytQjb"
      }
    },
    {
      "cell_type": "markdown",
      "source": [
        "Function 1"
      ],
      "metadata": {
        "id": "jIsNxbAPtr-a"
      }
    },
    {
      "cell_type": "code",
      "source": [
        "x0 = [1, 10]\n",
        "res = optimize.minimize(f1, x0, method='Newton-CG', jac=df1)\n",
        "print(res)"
      ],
      "metadata": {
        "id": "6pQmJtksD0jg",
        "colab": {
          "base_uri": "https://localhost:8080/"
        },
        "outputId": "6b0d49c4-4332-4d7e-a438-f9219b96792c"
      },
      "execution_count": 17,
      "outputs": [
        {
          "output_type": "stream",
          "name": "stdout",
          "text": [
            "     fun: 2.362203224908384e-27\n",
            "     jac: array([-6.84277938e-14, -2.05045077e-14])\n",
            " message: 'Optimization terminated successfully.'\n",
            "    nfev: 6\n",
            "    nhev: 0\n",
            "     nit: 5\n",
            "    njev: 22\n",
            "  status: 0\n",
            " success: True\n",
            "       x: array([-6.84277938e-14, -2.05045077e-15])\n"
          ]
        }
      ]
    },
    {
      "cell_type": "code",
      "source": [
        "x0 = [2, 2]\n",
        "res = optimize.minimize(f1, x0, method='Newton-CG', jac=df1)\n",
        "print(res)"
      ],
      "metadata": {
        "colab": {
          "base_uri": "https://localhost:8080/"
        },
        "id": "p0Kw-MyAREVp",
        "outputId": "ebcb3ee5-c362-4f40-d4ac-1359595d8263"
      },
      "execution_count": 18,
      "outputs": [
        {
          "output_type": "stream",
          "name": "stdout",
          "text": [
            "     fun: 7.32892089626529e-19\n",
            "     jac: array([1.20829302e-09, 2.41084097e-10])\n",
            " message: 'Optimization terminated successfully.'\n",
            "    nfev: 4\n",
            "    nhev: 0\n",
            "     nit: 3\n",
            "    njev: 14\n",
            "  status: 0\n",
            " success: True\n",
            "       x: array([1.20829302e-09, 2.41084097e-11])\n"
          ]
        }
      ]
    },
    {
      "cell_type": "markdown",
      "source": [
        "Function 2"
      ],
      "metadata": {
        "id": "GHsTTT16t_Fw"
      }
    },
    {
      "cell_type": "code",
      "source": [
        "x0 = [1, 10]\n",
        "res = optimize.minimize(f2, x0, method='Newton-CG', jac=df2)\n",
        "print(res)"
      ],
      "metadata": {
        "id": "gTVYC_FPT4Rs",
        "colab": {
          "base_uri": "https://localhost:8080/"
        },
        "outputId": "68d47915-759c-46c5-e04c-e919561bfeaf"
      },
      "execution_count": 19,
      "outputs": [
        {
          "output_type": "stream",
          "name": "stdout",
          "text": [
            "     fun: 1.1669005079149404e-19\n",
            "     jac: array([ 2.03753367e-06, -1.01639452e-06])\n",
            " message: 'Optimization terminated successfully.'\n",
            "    nfev: 93\n",
            "    nhev: 0\n",
            "     nit: 52\n",
            "    njev: 300\n",
            "  status: 0\n",
            " success: True\n",
            "       x: array([1., 1.])\n"
          ]
        }
      ]
    },
    {
      "cell_type": "code",
      "source": [
        "x0 = [2, 2]\n",
        "res = optimize.minimize(f2, x0, method='Newton-CG', jac=df2)\n",
        "print(res)"
      ],
      "metadata": {
        "colab": {
          "base_uri": "https://localhost:8080/"
        },
        "id": "QYu4c_ZcRTql",
        "outputId": "91f498f0-4e0e-4bf8-ee8e-7e4ec714d951"
      },
      "execution_count": 20,
      "outputs": [
        {
          "output_type": "stream",
          "name": "stdout",
          "text": [
            "     fun: 1.1733703158298029e-15\n",
            "     jac: array([-2.50862635e-06,  1.21758150e-06])\n",
            " message: 'Optimization terminated successfully.'\n",
            "    nfev: 44\n",
            "    nhev: 0\n",
            "     nit: 28\n",
            "    njev: 159\n",
            "  status: 0\n",
            " success: True\n",
            "       x: array([0.99999997, 0.99999993])\n"
          ]
        }
      ]
    },
    {
      "cell_type": "markdown",
      "source": [
        "Function 3"
      ],
      "metadata": {
        "id": "JkweK2hSuEo7"
      }
    },
    {
      "cell_type": "code",
      "source": [
        "x0 = [1, 10]\n",
        "res=optimize.minimize(f3, x0, method='Newton-CG', jac=df3)\n",
        "print(res)"
      ],
      "metadata": {
        "id": "rNW2S8bvuHi4",
        "colab": {
          "base_uri": "https://localhost:8080/"
        },
        "outputId": "fd378ac1-a89f-4f19-fd3d-b898bfe173ef"
      },
      "execution_count": null,
      "outputs": [
        {
          "output_type": "stream",
          "name": "stdout",
          "text": [
            "     fun: 26284486128017.48\n",
            "     jac: None\n",
            " message: \"Warning: CG iterations didn't converge.  The Hessian is not positive definite.\"\n",
            "    nfev: 1\n",
            "    nhev: 0\n",
            "     nit: 0\n",
            "    njev: 81\n",
            "  status: 3\n",
            " success: False\n",
            "       x: array([ 1., 10.])\n"
          ]
        },
        {
          "output_type": "stream",
          "name": "stderr",
          "text": [
            "/usr/local/lib/python3.7/dist-packages/ipykernel_launcher.py:8: RuntimeWarning: overflow encountered in double_scalars\n",
            "  \n",
            "/usr/local/lib/python3.7/dist-packages/ipykernel_launcher.py:8: RuntimeWarning: invalid value encountered in double_scalars\n",
            "  \n"
          ]
        }
      ]
    },
    {
      "cell_type": "code",
      "source": [
        "x0 = [2, 2]\n",
        "res=optimize.minimize(f3, x0, method='Newton-CG', jac=df3)\n",
        "print(res)"
      ],
      "metadata": {
        "id": "xzP1fh6dRdZs",
        "outputId": "bbdfa806-a1d6-4a71-8885-cab636ff8189",
        "colab": {
          "base_uri": "https://localhost:8080/"
        }
      },
      "execution_count": null,
      "outputs": [
        {
          "output_type": "stream",
          "name": "stdout",
          "text": [
            "     fun: 2.5592666966582156\n",
            "     jac: array([ 1.49065345e-08, -5.88060166e-07])\n",
            " message: 'Optimization terminated successfully.'\n",
            "    nfev: 14\n",
            "    nhev: 0\n",
            "     nit: 13\n",
            "    njev: 62\n",
            "  status: 0\n",
            " success: True\n",
            "       x: array([-3.46573586e-01, -1.44244687e-10])\n"
          ]
        }
      ]
    },
    {
      "cell_type": "markdown",
      "source": [
        "BFGS (Quassi Newton Method)"
      ],
      "metadata": {
        "id": "c_hSbzljvBAn"
      }
    },
    {
      "cell_type": "markdown",
      "source": [
        "Function 1"
      ],
      "metadata": {
        "id": "sDr2-kLxvJdF"
      }
    },
    {
      "cell_type": "code",
      "source": [
        "x0 = [1, 10]\n",
        "res=optimize.minimize(f1, x0, method='BFGS')\n",
        "print(res)"
      ],
      "metadata": {
        "id": "tTokI8t4vGXS",
        "colab": {
          "base_uri": "https://localhost:8080/"
        },
        "outputId": "abd21f86-9562-4972-e8bd-0b0f29e57694"
      },
      "execution_count": null,
      "outputs": [
        {
          "output_type": "stream",
          "name": "stdout",
          "text": [
            "      fun: 9.691251031075099e-15\n",
            " hess_inv: array([[ 1.00008976e+00, -9.77659766e-07],\n",
            "       [-9.77659766e-07,  1.00000009e-01]])\n",
            "      jac: array([-1.10981387e-07,  3.05944159e-07])\n",
            "  message: 'Optimization terminated successfully.'\n",
            "     nfev: 20\n",
            "      nit: 4\n",
            "     njev: 5\n",
            "   status: 0\n",
            "  success: True\n",
            "        x: array([-1.18431968e-07,  2.31438353e-08])\n"
          ]
        }
      ]
    },
    {
      "cell_type": "markdown",
      "source": [
        "Function 2"
      ],
      "metadata": {
        "id": "-2O9YsOUwBUu"
      }
    },
    {
      "cell_type": "code",
      "source": [
        "x0 = [1, 10]\n",
        "res=optimize.minimize(f2, x0, method='BFGS')\n",
        "print(res)"
      ],
      "metadata": {
        "id": "gCf5shrrvkBa",
        "colab": {
          "base_uri": "https://localhost:8080/"
        },
        "outputId": "9701b99c-b2f6-4059-b2cf-0375794d3222"
      },
      "execution_count": null,
      "outputs": [
        {
          "output_type": "stream",
          "name": "stdout",
          "text": [
            "      fun: 1.836612735313866e-11\n",
            " hess_inv: array([[0.50973452, 1.01869414],\n",
            "       [1.01869414, 2.04088826]])\n",
            "      jac: array([ 5.49491578e-06, -2.55050894e-06])\n",
            "  message: 'Optimization terminated successfully.'\n",
            "     nfev: 224\n",
            "      nit: 45\n",
            "     njev: 56\n",
            "   status: 0\n",
            "  success: True\n",
            "        x: array([0.99999572, 0.99999142])\n"
          ]
        }
      ]
    },
    {
      "cell_type": "markdown",
      "source": [
        "Function 3"
      ],
      "metadata": {
        "id": "ADse9n1bwD4N"
      }
    },
    {
      "cell_type": "code",
      "source": [
        "x0 = [1, 10]\n",
        "res=optimize.minimize(f3, x0, method='BFGS')\n",
        "print(res)"
      ],
      "metadata": {
        "id": "1BMMfy94wFWw",
        "colab": {
          "base_uri": "https://localhost:8080/"
        },
        "outputId": "6c0061f6-97ab-4555-ceef-1a6a97253bdd"
      },
      "execution_count": null,
      "outputs": [
        {
          "output_type": "stream",
          "name": "stdout",
          "text": [
            "      fun: 2.5592666966582183\n",
            " hess_inv: array([[ 0.3892304 , -0.00088368],\n",
            "       [-0.00088368,  0.08627611]])\n",
            "      jac: array([-5.96046448e-08, -1.19209290e-07])\n",
            "  message: 'Optimization terminated successfully.'\n",
            "     nfev: 358\n",
            "      nit: 69\n",
            "     njev: 87\n",
            "   status: 0\n",
            "  success: True\n",
            "        x: array([-3.46573620e-01, -1.77297377e-08])\n"
          ]
        },
        {
          "output_type": "stream",
          "name": "stderr",
          "text": [
            "/usr/local/lib/python3.7/dist-packages/ipykernel_launcher.py:10: RuntimeWarning: overflow encountered in double_scalars\n",
            "  # Remove the CWD from sys.path while we load stuff.\n",
            "/usr/local/lib/python3.7/dist-packages/scipy/optimize/optimize.py:697: RuntimeWarning: invalid value encountered in double_scalars\n",
            "  df = (f(*((xk + d,) + args)) - f0) / d[k]\n",
            "/usr/local/lib/python3.7/dist-packages/ipykernel_launcher.py:10: RuntimeWarning: overflow encountered in double_scalars\n",
            "  # Remove the CWD from sys.path while we load stuff.\n"
          ]
        }
      ]
    },
    {
      "cell_type": "markdown",
      "source": [
        "Line search"
      ],
      "metadata": {
        "id": "Y0e6-a4O8suS"
      }
    },
    {
      "cell_type": "markdown",
      "source": [
        "Function 1"
      ],
      "metadata": {
        "id": "fTPTMtiP8w0U"
      }
    },
    {
      "cell_type": "code",
      "source": [
        "x0 = [1, 10]\n",
        "allResult = []\n",
        "max_iter = 100\n",
        "i=0\n",
        "while i < max_iter:\n",
        "  direction = -df1(x0)\n",
        "  result = optimize.line_search(f1, df1, x0, direction)\n",
        "  x0 = x0 - result[0]*df1(x0)\n",
        "  allResult.append(x0)\n",
        "  i = i+1\n",
        "print(allResult[-1])"
      ],
      "metadata": {
        "id": "fkPfxIqV8yiW",
        "colab": {
          "base_uri": "https://localhost:8080/"
        },
        "outputId": "fca6721d-2a91-4629-fb2c-2fe1fd7b0e55"
      },
      "execution_count": 21,
      "outputs": [
        {
          "output_type": "stream",
          "name": "stdout",
          "text": [
            "[0. 0.]\n"
          ]
        }
      ]
    },
    {
      "cell_type": "markdown",
      "source": [
        "Function 2"
      ],
      "metadata": {
        "id": "JelwfTy_9E_D"
      }
    },
    {
      "cell_type": "code",
      "source": [
        "x0 = [1, 10]\n",
        "allResult = []\n",
        "max_iter = 10000\n",
        "i=0\n",
        "while i<max_iter:\n",
        "  direction = -df2(x0)\n",
        "  result = optimize.line_search(f2, df2, x0, direction)\n",
        "  x0 = x0 - result[0]*df2(x0)\n",
        "  allResult.append(x0)\n",
        "  i = i+1\n",
        "print(allResult[-1])"
      ],
      "metadata": {
        "id": "3JwYyD9vwP7R",
        "colab": {
          "base_uri": "https://localhost:8080/"
        },
        "outputId": "7f010b26-4ce4-437a-d5a9-421d84374579"
      },
      "execution_count": null,
      "outputs": [
        {
          "output_type": "stream",
          "name": "stdout",
          "text": [
            "[1.16151181 1.34953169]\n"
          ]
        }
      ]
    },
    {
      "cell_type": "markdown",
      "source": [
        "Function 3"
      ],
      "metadata": {
        "id": "0optPuVP9HxS"
      }
    },
    {
      "cell_type": "code",
      "source": [
        "x0 = [1, 10]\n",
        "allResult = []\n",
        "imax = 10000\n",
        "i=0\n",
        "while i<imax:\n",
        "  direction = -df3(x0)\n",
        "  result = optimize.line_search(f3, df3, x0, direction)\n",
        "  if(result[0]!=None):\n",
        "    x0 = x0 - result[0]*df3(x0)\n",
        "  allResult.append(x0)\n",
        "  i = i+1\n",
        "print(allResult[-1])"
      ],
      "metadata": {
        "id": "UwzggoKS9JWi",
        "colab": {
          "base_uri": "https://localhost:8080/"
        },
        "outputId": "39d42d96-d2fd-494d-8a16-73e4a8c72c8f"
      },
      "execution_count": 23,
      "outputs": [
        {
          "output_type": "stream",
          "name": "stderr",
          "text": [
            "/usr/local/lib/python3.7/dist-packages/ipykernel_launcher.py:8: RuntimeWarning: overflow encountered in double_scalars\n",
            "  \n",
            "/usr/local/lib/python3.7/dist-packages/scipy/optimize/linesearch.py:314: LineSearchWarning: The line search algorithm did not converge\n",
            "  warn('The line search algorithm did not converge', LineSearchWarning)\n"
          ]
        },
        {
          "output_type": "stream",
          "name": "stdout",
          "text": [
            "[1, 10]\n"
          ]
        }
      ]
    }
  ]
}